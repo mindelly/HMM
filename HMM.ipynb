{
 "cells": [
  {
   "cell_type": "markdown",
   "metadata": {},
   "source": [
    "# Hidden Markov Model"
   ]
  },
  {
   "cell_type": "markdown",
   "metadata": {},
   "source": [
    "### Задание матрицы перехода (M x M), эмиссионной матрицы (M x K) и вектор начальных вероятностей длины M"
   ]
  },
  {
   "cell_type": "markdown",
   "metadata": {},
   "source": [
    "Численно зададим матрицу перехода, эмиссионную матрицу и вектор начальных вероятностей, i-й элемент которого отвечает вероятности попадания в i-e скрытое состояние в начальный момент времени.\n",
    "\n",
    "Пусть будет два скрытых состояния и три видимых. Поэтому построим матрицы размерности которых (2 x 2) и (2 x 3) -  соответственно для переходной и эмиссионной."
   ]
  },
  {
   "cell_type": "code",
   "execution_count": 143,
   "metadata": {},
   "outputs": [],
   "source": [
    "import numpy as np\n",
    "import matplotlib.pyplot as plt\n",
    "\n",
    "A = [[0.4, 0.6], [0.2, 0.8]] # Матрица переходов между скрытыми состояниями\n",
    "B = [[0.2, 0.5, 0.3], [0.6, 0.3, 0.1]] # Эмиссионная матрица\n",
    "pi = [0.5, 0.5] # Начальное распределение вероятностей"
   ]
  },
  {
   "cell_type": "markdown",
   "metadata": {},
   "source": [
    "### Генератор видимой последовательности длины n, учитывающий заданные вероятностные матрицы"
   ]
  },
  {
   "cell_type": "markdown",
   "metadata": {},
   "source": [
    "Представим скрытую цепь Маркова как последовательность коробок, из которых мы достаем фрукты и выкладываем их, создавая видимую последовательность. Скрытая будет представлять из себя последовательность номеров коробок - 0 или 1\n",
    "\n",
    "Здесь используется генератор случайных чисел от 0 до 1 для выбора коробки и выбора фрукта. Случайное число попадает в интервалы, которые определяются матрицей перехода и эмиссионной матрицей. Например, если на первом шаге  случайное число равно 0.3, то оно попадает в интервал от 0 до 0.5, который отвечает начальной вероятности выбора первой коробки (номер 0), если же число попадает в интервал от 0.5 до 1, то мы выбираем вторую коробку (с номером 1), и т.д."
   ]
  },
  {
   "cell_type": "code",
   "execution_count": 268,
   "metadata": {},
   "outputs": [
    {
     "name": "stdout",
     "output_type": "stream",
     "text": [
      "[0, 0, 0, 1, 1, 1, 1, 1, 1, 1, 1, 1, 1, 1, 1, 1, 0, 1, 1, 1, 0, 0, 1, 1, 1, 0, 1, 1, 1, 1, 1, 0, 1, 0, 1, 1, 1, 0, 0, 1]\n",
      "\n",
      " [['Pear', 2], ['Pear', 2], ['Pear', 2], ['Pear', 2], ['Pear', 2], ['Pear', 2], ['Pear', 2], ['Pear', 2], ['Peach', 0], ['Peach', 0], ['Pear', 2], ['Pear', 2], ['Peach', 0], ['Pear', 2], ['Peach', 0], ['Pear', 2], ['Apple', 1], ['Peach', 0], ['Peach', 0], ['Peach', 0], ['Apple', 1], ['Pear', 2], ['Peach', 0], ['Peach', 0], ['Pear', 2], ['Pear', 2], ['Pear', 2], ['Peach', 0], ['Peach', 0], ['Pear', 2], ['Peach', 0], ['Pear', 2], ['Peach', 0], ['Apple', 1], ['Peach', 0], ['Peach', 0], ['Peach', 0], ['Pear', 2], ['Apple', 1], ['Peach', 0]]\n"
     ]
    }
   ],
   "source": [
    "C = [] # Список для видимой последовательности\n",
    "boxes = [] # Список для скрытой последовательности\n",
    "n = 40 # Длина последовательности\n",
    "\n",
    "Things = ['Peach', 'Apple', 'Pear'] # Элементы видимой последовательности\n",
    "\n",
    "# Построение случайных последовательностей (скрытой и видимой) с учетом матриц вероятностей\n",
    "\n",
    "f = np.random.random()\n",
    "\n",
    "# Выбор коробки на первом шаге с учетом начальных вероятностей\n",
    "if 0 <= f < 0.5:\n",
    "    box = 0\n",
    "    boxes.append(box)\n",
    "else:\n",
    "    box = 1\n",
    "    boxes.append(box)\n",
    "# Выбор фрукта из коробки на первом шаге\n",
    "k = np.random.random()\n",
    "\n",
    "if box == 0:\n",
    "    if 0 < k <= B[0][0]:\n",
    "        C.append([Things[0], 0])\n",
    "    elif B[0][0] < k <= B[0][1]:\n",
    "        C.append([Things[1], 1])\n",
    "    else:\n",
    "        C.append([Things[2], 2])\n",
    "elif box == 1:\n",
    "    if 0 < k <= B[1][0]:\n",
    "        C.append([Things[0], 0])\n",
    "    elif B[1][0] < k <= B[1][1]:\n",
    "        C.append([Things[1], 1])\n",
    "    else:\n",
    "        C.append([Things[2], 2])\n",
    "\n",
    "# Цикл для последующих шагов\n",
    "for i in range(1, n):\n",
    "    \n",
    "    f = np.random.random()\n",
    "    if 0 < f <= A[box][0]:\n",
    "        box = 0\n",
    "    else:\n",
    "        box = 1\n",
    "    boxes.append(box)\n",
    "    \n",
    "    k = np.random.random()\n",
    "    if 0 < k <= B[box][0]:\n",
    "        C.append([Things[0], 0])\n",
    "    elif B[box][0] < k <= B[box][1]:\n",
    "        C.append([Things[1], 1])\n",
    "    else:\n",
    "        C.append([Things[2], 2])\n",
    "\n",
    "print(boxes)\n",
    "print('\\n', C)"
   ]
  },
  {
   "cell_type": "markdown",
   "metadata": {},
   "source": [
    "Мы получили случайную последовательность скрытых состояний (номера коробок 0 или 1) и видимых состояний (фрукты и рядом их номера)."
   ]
  },
  {
   "cell_type": "markdown",
   "metadata": {},
   "source": [
    "### Алгоритм Витерби"
   ]
  },
  {
   "cell_type": "markdown",
   "metadata": {},
   "source": [
    "С помощью алгоритма можно попытаться восстановить скрытую последовательность, используя видимую и знания о вероятностях"
   ]
  },
  {
   "cell_type": "code",
   "execution_count": 269,
   "metadata": {},
   "outputs": [
    {
     "name": "stdout",
     "output_type": "stream",
     "text": [
      "[0 0 0 0 0 0 0 0 1 1 1 0 1 1 1 1 1 1 1 1 1 1 1 1 1 0 0 1 1 1 1 1 1 1 1 1 1\n",
      " 1 1 1]\n"
     ]
    }
   ],
   "source": [
    "V = np.zeros((n, 2))\n",
    "\n",
    "for i in range(2):\n",
    "    V[0][i] = pi[i] * B[i][C[0][1]]\n",
    "for i in range(1, n):\n",
    "    for j in range(2):\n",
    "        V[i][j] = B[j][C[i][1]] * max(V[i - 1][0] * A[0][j], V[i - 1][1] * A[1][j])\n",
    "\n",
    "m = np.argmax(V, axis=1) # какой из двух столбцов содержит большее число в каждой строке\n",
    "print(m)"
   ]
  },
  {
   "cell_type": "markdown",
   "metadata": {},
   "source": [
    "Построим диаграммы для сравнения исходной последовательности и полученной алгоритмом Витерби"
   ]
  },
  {
   "cell_type": "code",
   "execution_count": 270,
   "metadata": {},
   "outputs": [
    {
     "data": {
      "image/png": "[encoded data removed]",
      "text/plain": [
       "<Figure size 432x288 with 1 Axes>"
      ]
     },
     "metadata": {
      "needs_background": "light"
     },
     "output_type": "display_data"
    },
    {
     "data": {
      "image/png": "[encoded data removed]",
      "text/plain": [
       "<Figure size 432x288 with 1 Axes>"
      ]
     },
     "metadata": {
      "needs_background": "light"
     },
     "output_type": "display_data"
    }
   ],
   "source": [
    "x = np.arange(n)\n",
    "\n",
    "g1 = plt.bar(x, boxes)\n",
    "plt.show()\n",
    "\n",
    "g2 = plt.bar(x, m)\n",
    "plt.show()"
   ]
  },
  {
   "cell_type": "markdown",
   "metadata": {},
   "source": [
    "Синим цветом обозначены фактические выпадения номера '1' сгенерированной последовательности на верхнем рисунке. На нижнем - выпадения '1' из последовательности, построенной алгоритмом Витерби. Пробелы между ними - выпадение 0.\n",
    "\n",
    "Можно заметить, что есть участки, где последовательности хорошо совпадают и, в целом, диаграммы похожи."
   ]
  },
  {
   "cell_type": "markdown",
   "metadata": {},
   "source": [
    "### Применение прямого алгоритма для поиска вероятности P(x)"
   ]
  },
  {
   "cell_type": "code",
   "execution_count": 271,
   "metadata": {},
   "outputs": [
    {
     "name": "stdout",
     "output_type": "stream",
     "text": [
      "P1 = 2.617753569556543e-22\n"
     ]
    }
   ],
   "source": [
    "f = np.zeros((n, 2))\n",
    "f[0][0] = 1\n",
    "summ = 0\n",
    "for i in range(1, n):\n",
    "    for l in range(2):\n",
    "        summ = 0\n",
    "        for k in range(2):\n",
    "            summ = summ + f[i - 1][k] * A[k][l]\n",
    "        f[i][l] = B[l][C[i][1]] * summ\n",
    "\n",
    "P1 = f[n - 1][0] + f[n - 1][1]\n",
    "print('P1 =', P1)"
   ]
  },
  {
   "cell_type": "markdown",
   "metadata": {},
   "source": [
    "### Применение обратного алгоритма для поиска вероятности P(x)"
   ]
  },
  {
   "cell_type": "code",
   "execution_count": 272,
   "metadata": {},
   "outputs": [
    {
     "name": "stdout",
     "output_type": "stream",
     "text": [
      "P2 = 2.6177535695565417e-22\n"
     ]
    }
   ],
   "source": [
    "b = np.zeros((n, 2))\n",
    "for k in range(2):\n",
    "    b[n - 1][k] = 1\n",
    "for i in range(n - 2, -1, -1):\n",
    "    for k in range(2):\n",
    "        sumo = 0\n",
    "        for l in range(2):\n",
    "            sumo = sumo + A[k][l] * B[l][C[i + 1][1]] * b[i + 1][l]\n",
    "            b[i][k] = sumo\n",
    "\n",
    "P2 = 0\n",
    "for l in range(2):\n",
    "    P2 = P2 + A[0][l] * B[l][C[0][1]] * b[1][l]\n",
    "print('P2 =', P2)\n"
   ]
  },
  {
   "cell_type": "markdown",
   "metadata": {},
   "source": [
    "Оба алгоритма дают одно и тоже число P. Используем полученные матрицы и вероятность P для последующего апостериорного декодирования"
   ]
  },
  {
   "cell_type": "markdown",
   "metadata": {},
   "source": [
    "### Апостериорное декодирование"
   ]
  },
  {
   "cell_type": "code",
   "execution_count": 273,
   "metadata": {},
   "outputs": [
    {
     "name": "stdout",
     "output_type": "stream",
     "text": [
      "[[1.         0.        ]\n",
      " [0.73507525 0.26492475]\n",
      " [0.67537627 0.32462373]\n",
      " [0.66170574 0.33829426]\n",
      " [0.65760892 0.34239108]\n",
      " [0.652161   0.347839  ]\n",
      " [0.63083414 0.36916586]\n",
      " [0.53675673 0.46324327]\n",
      " [0.11905569 0.88094431]\n",
      " [0.1167842  0.8832158 ]\n",
      " [0.50934741 0.49065259]\n",
      " [0.51650244 0.48349756]\n",
      " [0.15732938 0.84267062]\n",
      " [0.43340007 0.56659993]\n",
      " [0.1531944  0.8468056 ]\n",
      " [0.48176861 0.51823139]\n",
      " [0.36462311 0.63537689]\n",
      " [0.0982706  0.9017294 ]\n",
      " [0.07618141 0.92381859]\n",
      " [0.09808023 0.90191977]\n",
      " [0.36251631 0.63748369]\n",
      " [0.47231417 0.52768583]\n",
      " [0.11317851 0.88682149]\n",
      " [0.11794668 0.88205332]\n",
      " [0.52985009 0.47014991]\n",
      " [0.60251419 0.39748581]\n",
      " [0.52970996 0.47029004]\n",
      " [0.11729274 0.88270726]\n",
      " [0.10819923 0.89180077]\n",
      " [0.41998157 0.58001843]\n",
      " [0.1448074  0.8551926 ]\n",
      " [0.42480137 0.57519863]\n",
      " [0.12885552 0.87114448]\n",
      " [0.28598575 0.71401425]\n",
      " [0.0911885  0.9088115 ]\n",
      " [0.07643851 0.92356149]\n",
      " [0.10800263 0.89199737]\n",
      " [0.47206213 0.52793787]\n",
      " [0.36636671 0.63363329]\n",
      " [0.11535315 0.88464685]]\n"
     ]
    }
   ],
   "source": [
    "P = np.zeros((n, 2))\n",
    "for i in range(n):\n",
    "    for k in range(2):\n",
    "        P[i][k] = (f[i][k] * b[i][k]) / P1\n",
    "print(P)"
   ]
  },
  {
   "cell_type": "markdown",
   "metadata": {},
   "source": [
    "Получили матрицу из двух столбцов, каждый из которых отвечает разным коробкам (разным скрытым состояниям). Элементы - это вероятности на каждом шаге (то есть на каждой строке) получить 0-е или 1-е скрытое состояние (0-й или 1-й столбец)."
   ]
  },
  {
   "cell_type": "markdown",
   "metadata": {},
   "source": [
    "Построим график второго столбца матрицы, который означает попадание во второй ящик (с номером 1) и диаграмму скрытой последовательности"
   ]
  },
  {
   "cell_type": "code",
   "execution_count": 274,
   "metadata": {},
   "outputs": [
    {
     "data": {
      "image/png": "[encoded data removed]",
      "text/plain": [
       "<Figure size 432x288 with 1 Axes>"
      ]
     },
     "metadata": {
      "needs_background": "light"
     },
     "output_type": "display_data"
    },
    {
     "data": {
      "image/png": "[encoded data removed]",
      "text/plain": [
       "<Figure size 432x288 with 1 Axes>"
      ]
     },
     "metadata": {
      "needs_background": "light"
     },
     "output_type": "display_data"
    }
   ],
   "source": [
    "g3 = plt.plot(x, boxes, linestyle='--')\n",
    "g4 = plt.plot(x, P[:, 1])\n",
    "plt.show()\n",
    "\n",
    "gg3 = plt.plot(x, m, linestyle='--')\n",
    "gg4 = plt.plot(x, P[:, 1])\n",
    "plt.show()"
   ]
  },
  {
   "cell_type": "markdown",
   "metadata": {},
   "source": [
    "График изменения вероятности от номера шага выполнен оранжевой сплошной линией\n",
    "\n",
    "На графиках можно заметить что высокая вероятность выпадения коробки номер 1 хорошо соответствует и фактическому выпадению этой коробки (верхний рисунок), и выпадению в последовательности, составленной по Витерби (нижний рисунок)."
   ]
  },
  {
   "cell_type": "markdown",
   "metadata": {},
   "source": [
    "### Алгоритм Баума-Велша"
   ]
  },
  {
   "cell_type": "code",
   "execution_count": 277,
   "metadata": {},
   "outputs": [
    {
     "name": "stdout",
     "output_type": "stream",
     "text": [
      "Aa: \n",
      " [[0.49655067 0.50344933]\n",
      " [0.25096801 0.74903199]]\n",
      "Bb: \n",
      " [[0.13621107 0.09684881 0.76694012]\n",
      " [0.58470667 0.10174268 0.31355065]]\n",
      "New Aa: \n",
      " [[8.62945099e-01 1.37054901e-01]\n",
      " [1.27295049e-05 9.99987270e-01]]\n",
      "New Bb: \n",
      " [[2.79317315e-08 4.86674438e-24 9.99999972e-01]\n",
      " [5.19861163e-01 1.22320275e-01 3.57818562e-01]]\n",
      "\n",
      " Количество итераций, необходимое для того, чтобы матрицы сходились с погрешностью dd = 0.0001 : 18\n"
     ]
    }
   ],
   "source": [
    "# Прямой алгоритм для Баума-Велша\n",
    "\n",
    "a = np.zeros((n, 2)) \n",
    "\n",
    "for k in range(2):\n",
    "    a[0][k] = pi[k] * B[k][C[0][1]] # Начальные вероятности для алгоритма\n",
    "\n",
    "for i in range(1, n):\n",
    "    for l in range(2):\n",
    "        s1 = 0\n",
    "        for k in range(2):\n",
    "            s1 = s1 + a[i - 1][k] * A[k][l]\n",
    "        a[i][l] = B[l][C[i][1]] * s1\n",
    "\n",
    "# Обратный алгоритм для Баума-Велша\n",
    "\n",
    "beta = np.zeros((n, 2))\n",
    "\n",
    "for k in range(2):\n",
    "    beta[n - 1][k] = 1\n",
    "\n",
    "for i in range(n - 2, -1, -1):\n",
    "    for k in range(2):\n",
    "        s2 = 0\n",
    "        for l in range(2):\n",
    "            s2 = s2 + A[k][l] * B[l][C[i + 1][1]] * beta[i + 1][l]\n",
    "            beta[i][k] = s2\n",
    "\n",
    "# Определим временные переменные 'gamma' и 'e', с помощью которых в дальнейшем можно будет определить\n",
    "# новые матрицы перехода и эмиссии\n",
    "\n",
    "gamma = np.zeros((n, 2))\n",
    "\n",
    "for t in range(n):\n",
    "    for i in range(2):\n",
    "        s3 = 0\n",
    "        for j in range(2):\n",
    "            s3 = s3 + a[t][j] * beta[t][j]\n",
    "        gamma[t][i] = (a[t][i] * beta[t][i]) / s3\n",
    "\n",
    "e = np.zeros((n, 2, 2))\n",
    "\n",
    "s4 = 0\n",
    "for t in range(n):\n",
    "    s4 = 0\n",
    "    for i in range(2):\n",
    "        for j in range(2):\n",
    "            s4 = s4 + a[t - 1][i] * A[i][j] * B[j][C[t][1]] * beta[t][j]\n",
    "    for i in range(2):\n",
    "        for j in range(2):\n",
    "            e[t - 1][i][j] = (a[t - 1][i] * A[i][j] * beta[t][j] * B[j][C[t][1]]) / s4\n",
    "\n",
    "Aa = np.zeros((2, 2)) # новая матрица перехода\n",
    "Bb = np.zeros((2, 3)) # новая матрица эмиссии\n",
    "\n",
    "for i in range(2):\n",
    "    pi[i] = gamma[0][i]\n",
    "\n",
    "for i in range(2):\n",
    "    for j in range(2):\n",
    "        s4 = 0\n",
    "        s5 = 0\n",
    "        for t in range(n - 1):\n",
    "            s4 = s4 + e[t][i][j]\n",
    "            s5 = s5 + gamma[t][i]\n",
    "        Aa[i][j] = s4 / s5\n",
    "\n",
    "print('Aa: \\n', Aa)\n",
    "for i in range(2):\n",
    "    for j in range(n):\n",
    "        s4 = 0\n",
    "        s5 = 0\n",
    "        for t in range(n):\n",
    "            if C[t][1] == C[j][1]:\n",
    "                delta = 1\n",
    "            else:\n",
    "                delta = 0\n",
    "            s4 = s4 + delta * gamma[t][i]\n",
    "            s5 = s5 + gamma[t][i]\n",
    "        Bb[i][C[j][1]] = s4 / s5\n",
    "\n",
    "print('Bb: \\n', Bb)\n",
    "\n",
    "\n",
    "# Используем алгоритм с новыми матрицами\n",
    "list_Aa = []\n",
    "list_Bb = []\n",
    "\n",
    "list_Aa.append(Aa.tolist())\n",
    "list_Bb.append(Bb.tolist())\n",
    "\n",
    "for k in range(2):\n",
    "    a[0][k] = pi[k] * Bb[k][C[0][1]]\n",
    "# forward\n",
    "for i in range(1, n):\n",
    "    for l in range(2):\n",
    "        s1 = 0\n",
    "        for k in range(2):\n",
    "            s1 = s1 + a[i - 1][k] * Aa[k][l]\n",
    "        a[i][l] = Bb[l][C[i][1]] * s1\n",
    "\n",
    "# backward\n",
    "for k in range(2):\n",
    "    beta[n - 1][k] = 1\n",
    "for i in range(n - 2, -1, -1):\n",
    "    for k in range(2):\n",
    "        s2 = 0\n",
    "        for l in range(2):\n",
    "            s2 = s2 + Aa[k][l] * Bb[l][C[i + 1][1]] * beta[i + 1][l]\n",
    "            beta[i][k] = s2            \n",
    "# gamma\n",
    "for t in range(n):\n",
    "    for i in range(2):\n",
    "        s3 = 0\n",
    "        for j in range(2):\n",
    "            s3 = s3 + a[t][j] * beta[t][j]\n",
    "        gamma[t][i] = (a[t][i] * beta[t][i]) / s3\n",
    "# eps\n",
    "for t in range(n):\n",
    "    s4 = 0\n",
    "    for i in range(2):\n",
    "        for j in range(2):\n",
    "            s4 = s4 + a[t - 1][i] * Aa[i][j] * Bb[j][C[t][1]] * beta[t][j]\n",
    "    for i in range(2):\n",
    "        for j in range(2):\n",
    "            e[t - 1][i][j] = (a[t - 1][i] * Aa[i][j] * beta[t][j] * Bb[j][C[t][1]]) / s4\n",
    "# Aa\n",
    "for i in range(2):\n",
    "    for j in range(2):\n",
    "        s4 = 0\n",
    "        s5 = 0\n",
    "        for t in range(n - 1):\n",
    "            s4 = s4 + e[t][i][j]\n",
    "            s5 = s5 + gamma[t][i]\n",
    "        Aa[i][j] = s4 / s5\n",
    "list_Aa.append(Aa.tolist())\n",
    "# Bb\n",
    "for i in range(2):\n",
    "    for j in range(n):\n",
    "        s4 = 0\n",
    "        s5 = 0\n",
    "        for t in range(n):\n",
    "            if C[t][1] == C[j][1]:\n",
    "                delta = 1\n",
    "            else:\n",
    "                delta = 0\n",
    "            s4 = s4 + delta * gamma[t][i]\n",
    "            s5 = s5 + gamma[t][i]\n",
    "        Bb[i][C[j][1]] = s4 / s5\n",
    "list_Bb.append(Bb.tolist())\n",
    "        \n",
    "# Цикл для алгоритма поиска матриц\n",
    "\n",
    "u = 0\n",
    "dd = 0.0001\n",
    "while abs(list_Aa[u][0][0] - list_Aa[u + 1][0][0]) > dd:\n",
    "    u = u + 1\n",
    "    for k in range(2):\n",
    "        a[0][k] = pi[k] * Bb[k][C[0][1]]\n",
    "    # forward\n",
    "    for i in range(1, n):\n",
    "        for l in range(2):\n",
    "            s1 = 0\n",
    "            for k in range(2):\n",
    "                s1 = s1 + a[i - 1][k] * Aa[k][l]\n",
    "            a[i][l] = Bb[l][C[i][1]] * s1\n",
    "    # backward\n",
    "    for k in range(2):\n",
    "        beta[n - 1][k] = 1\n",
    "    for i in range(n - 2, -1, -1):\n",
    "        for k in range(2):\n",
    "            s2 = 0\n",
    "            for l in range(2):\n",
    "                s2 = s2 + Aa[k][l] * Bb[l][C[i + 1][1]] * beta[i + 1][l]\n",
    "                beta[i][k] = s2\n",
    "    # gamma\n",
    "    for t in range(n):\n",
    "        for i in range(2):\n",
    "            s3 = 0\n",
    "            for j in range(2):\n",
    "                s3 = s3 + a[t][j] * beta[t][j]\n",
    "            gamma[t][i] = (a[t][i] * beta[t][i]) / s3\n",
    "    # eps\n",
    "    for t in range(n):\n",
    "        s4 = 0\n",
    "        for i in range(2):\n",
    "            for j in range(2):\n",
    "                s4 = s4 + a[t - 1][i] * Aa[i][j] * Bb[j][C[t][1]] * beta[t][j]\n",
    "        for i in range(2):\n",
    "            for j in range(2):\n",
    "                e[t - 1][i][j] = (a[t - 1][i] * Aa[i][j] * beta[t][j] * Bb[j][C[t][1]]) / s4\n",
    "    # Aa\n",
    "    for i in range(2):\n",
    "        for j in range(2):\n",
    "            s4 = 0\n",
    "            s5 = 0\n",
    "            for t in range(n - 1):\n",
    "                s4 = s4 + e[t][i][j]\n",
    "                s5 = s5 + gamma[t][i]\n",
    "            Aa[i][j] = s4 / s5\n",
    "    list_Aa.append(Aa.tolist())\n",
    "\n",
    "    # Bb\n",
    "    for i in range(2):\n",
    "        for j in range(n):\n",
    "            s4 = 0\n",
    "            s5 = 0\n",
    "            for t in range(n):\n",
    "                if C[t][1] == C[j][1]:\n",
    "                    delta = 1\n",
    "                else:\n",
    "                    delta = 0\n",
    "                s4 = s4 + delta * gamma[t][i]\n",
    "                s5 = s5 + gamma[t][i]\n",
    "            Bb[i][C[j][1]] = s4 / s5\n",
    "    list_Bb.append(Bb.tolist())\n",
    "\n",
    "print('New Aa: \\n', Aa)\n",
    "print('New Bb: \\n', Bb)\n",
    "print('\\n','Количество итераций, необходимое для того, чтобы матрицы сходились с погрешностью dd =', dd, ':',len(list_Aa))"
   ]
  },
  {
   "cell_type": "markdown",
   "metadata": {},
   "source": [
    "Получили окончательные матрицы перехода и эмиссии с помощью алгоритма Баума-Велша"
   ]
  },
  {
   "cell_type": "markdown",
   "metadata": {},
   "source": [
    "## Нечестное казино"
   ]
  },
  {
   "cell_type": "markdown",
   "metadata": {},
   "source": [
    "С помощью выполненных выше алгоритмов построим скрытую модель Маркова для задачи нечестного казино. Одна игральная кость имеет равные вероятности выпадения чисел 1, 2, 3, 4, 5, 6, которые равны 1/6. Другая кость имеет вероятность выпадения шестерки равную 0.5.\n",
    "\n",
    "Вероятность перейти от правильной кости к неправильной - 0.05, обратно - 0.1\n",
    "\n",
    "В соответствии с этим построим матрицы перехода и эмиссии - Tr и Em.\n",
    "\n",
    "Пусть начальная вероятность P0 выбрать одну из костей равна 0.5"
   ]
  },
  {
   "cell_type": "code",
   "execution_count": 299,
   "metadata": {},
   "outputs": [],
   "source": [
    "import numpy as np\n",
    "import matplotlib.pyplot as plt\n",
    "Tr = [[0.95, 0.05], [0.1, 0.9]]\n",
    "Em = [[1/6, 1/6, 1/6, 1/6, 1/6, 1/6], [0.1, 0.1, 0.1, 0.1, 0.1, 0.5]]\n",
    "P0 = [0.5, 0.5]"
   ]
  },
  {
   "cell_type": "code",
   "execution_count": 320,
   "metadata": {},
   "outputs": [
    {
     "name": "stdout",
     "output_type": "stream",
     "text": [
      "Видимая последовательность(в кавычках указан номер, выпавший на кубике, рядом - его номер в массиве наблюдений): \n",
      " [['5', 4], ['1', 0], ['4', 3], ['6', 5], ['1', 0], ['5', 4], ['6', 5], ['6', 5], ['6', 5], ['6', 5], ['1', 0], ['5', 4], ['3', 2], ['3', 2], ['2', 1], ['6', 5], ['3', 2], ['3', 2], ['3', 2], ['6', 5], ['1', 0], ['6', 5], ['1', 0], ['4', 3], ['6', 5], ['6', 5], ['5', 4], ['6', 5], ['6', 5], ['1', 0], ['4', 3], ['6', 5], ['6', 5], ['1', 0], ['6', 5], ['4', 3], ['4', 3], ['2', 1], ['3', 2], ['3', 2], ['1', 0], ['3', 2], ['1', 0], ['2', 1], ['5', 4], ['6', 5], ['1', 0], ['2', 1], ['4', 3], ['6', 5], ['2', 1], ['6', 5], ['6', 5], ['2', 1], ['4', 3], ['2', 1], ['2', 1], ['4', 3], ['5', 4], ['2', 1], ['6', 5], ['6', 5], ['1', 0], ['6', 5], ['5', 4], ['6', 5], ['6', 5], ['6', 5], ['5', 4], ['5', 4], ['6', 5], ['4', 3], ['3', 2], ['6', 5], ['4', 3], ['6', 5], ['4', 3], ['5', 4], ['5', 4], ['5', 4], ['3', 2], ['6', 5], ['6', 5], ['6', 5], ['1', 0], ['6', 5], ['1', 0], ['6', 5], ['2', 1], ['6', 5], ['4', 3], ['2', 1], ['4', 3], ['5', 4], ['6', 5], ['6', 5], ['1', 0], ['4', 3], ['6', 5], ['5', 4], ['6', 5], ['6', 5], ['6', 5], ['3', 2], ['6', 5], ['3', 2], ['6', 5], ['6', 5], ['6', 5], ['3', 2], ['2', 1], ['5', 4], ['3', 2], ['1', 0], ['5', 4], ['6', 5], ['2', 1], ['6', 5], ['6', 5], ['4', 3], ['6', 5], ['3', 2], ['3', 2], ['6', 5], ['2', 1], ['6', 5], ['6', 5], ['4', 3], ['4', 3], ['6', 5], ['4', 3], ['1', 0], ['3', 2], ['3', 2], ['4', 3], ['2', 1], ['4', 3], ['4', 3], ['4', 3], ['1', 0], ['6', 5], ['6', 5], ['5', 4], ['2', 1], ['6', 5], ['5', 4], ['1', 0], ['6', 5], ['3', 2], ['6', 5], ['6', 5], ['6', 5], ['6', 5], ['6', 5], ['5', 4], ['6', 5], ['6', 5], ['3', 2], ['2', 1], ['3', 2], ['1', 0], ['4', 3], ['2', 1], ['1', 0], ['1', 0], ['1', 0], ['4', 3], ['1', 0], ['2', 1], ['4', 3], ['2', 1], ['3', 2], ['4', 3], ['2', 1], ['1', 0], ['4', 3], ['2', 1], ['4', 3], ['5', 4], ['2', 1], ['2', 1], ['2', 1], ['5', 4], ['3', 2], ['1', 0], ['6', 5], ['6', 5], ['6', 5], ['3', 2], ['1', 0], ['6', 5], ['2', 1], ['6', 5], ['2', 1], ['6', 5], ['6', 5], ['2', 1], ['6', 5], ['1', 0], ['3', 2]]\n",
      "\n",
      " Сгенерированная скрытая последовательность: \n",
      " [0, 0, 0, 0, 0, 0, 0, 0, 1, 1, 1, 1, 1, 1, 0, 0, 0, 0, 0, 1, 1, 1, 1, 1, 1, 1, 1, 1, 1, 1, 1, 1, 0, 0, 0, 0, 0, 0, 0, 0, 0, 0, 0, 0, 0, 0, 0, 0, 0, 0, 0, 0, 0, 0, 0, 0, 0, 0, 1, 1, 1, 1, 1, 1, 1, 1, 1, 1, 1, 1, 1, 0, 1, 1, 1, 1, 0, 0, 0, 1, 1, 1, 1, 1, 1, 1, 1, 1, 1, 1, 1, 1, 1, 1, 1, 1, 1, 1, 1, 1, 1, 1, 1, 1, 1, 1, 1, 1, 0, 0, 0, 0, 0, 1, 1, 1, 1, 1, 1, 1, 1, 1, 1, 1, 1, 1, 1, 1, 0, 0, 0, 0, 0, 0, 0, 0, 0, 0, 0, 0, 0, 0, 0, 0, 1, 1, 1, 1, 1, 1, 1, 1, 1, 1, 1, 1, 1, 1, 0, 0, 0, 0, 0, 0, 0, 0, 0, 0, 0, 0, 0, 0, 0, 0, 0, 0, 0, 0, 0, 0, 0, 0, 0, 0, 1, 1, 1, 1, 1, 1, 1, 1, 1, 1, 1, 1, 1, 1, 1, 1]\n",
      "\n",
      " Последовательность по алгоритму Витерби: \n",
      " [1 0 0 1 0 0 1 1 1 1 1 1 1 0 0 1 0 0 0 0 0 1 0 0 1 1 1 1 1 1 1 1 1 1 1 1 1\n",
      " 1 0 0 0 0 0 0 0 0 0 0 0 0 0 0 0 0 0 0 0 0 0 0 0 0 0 0 0 1 1 1 1 1 1 1 1 1\n",
      " 1 1 1 1 1 0 0 1 1 1 1 1 1 1 1 1 1 1 1 0 1 1 1 1 1 1 1 1 1 1 1 1 1 1 1 1 1\n",
      " 1 0 0 0 0 0 1 1 1 1 1 1 1 1 1 1 1 1 1 1 1 1 0 0 0 0 0 0 0 0 0 0 0 0 0 0 0\n",
      " 0 0 1 1 1 1 1 1 1 1 1 1 0 0 0 0 0 0 0 0 0 0 0 0 0 0 0 0 0 0 0 0 0 0 0 0 0\n",
      " 0 0 1 0 0 1 0 1 1 1 1 1 1 1 1]\n"
     ]
    }
   ],
   "source": [
    "seq = [] # Список для видимой последовательности\n",
    "dices = [] # Список для скрытой последовательности\n",
    "n = 200 # Длина последовательности\n",
    "\n",
    "number = ['1', '2', '3', '4', '5', '6'] # Элементы видимой последовательности - числа на игральных кубиках\n",
    "\n",
    "# Построение случайных последовательностей\n",
    "\n",
    "\n",
    "f = np.random.random() # Случайное число попадет в один из интервалов\n",
    "if 0 <= f < 0.5: # Выбирается 1 или 2 игральная кость\n",
    "    dice = 0\n",
    "else:\n",
    "    dice = 1\n",
    "\n",
    "dices.append(dice)\n",
    "\n",
    "k = np.random.random() # Случайное число для броска игральной кости\n",
    "q = 0\n",
    "v = 0\n",
    "for l in range(6): # Цикл суммы для определения в какой из интервалов вероятностей попадет случайное число\n",
    "    q = q + Em[dice][l]\n",
    "    v = q - k\n",
    "    if v >= 0:\n",
    "        seq.append([number[l], l])\n",
    "        break\n",
    "# Если разность между случайным числом и суммой из вероятностей становится положительной, выпадает соответствующий номер кости\n",
    "\n",
    "# Цикл для последующего построения последовательностей\n",
    "for j in range(1, n):\n",
    "\n",
    "    p = np.random.random()\n",
    "    if 0 <= p < Tr[dice][0]:\n",
    "        dice = 0\n",
    "    else:\n",
    "        dice = 1\n",
    "    dices.append(dice)\n",
    "\n",
    "    g = np.random.random()\n",
    "    o = 0\n",
    "    w = 0\n",
    "    for l in range(6):\n",
    "        o = o + Em[dice][l]\n",
    "        w = o - g\n",
    "        if w >= 0:\n",
    "            seq.append([number[l], l])\n",
    "            break\n",
    "\n",
    "print(\"Видимая последовательность(в кавычках указан номер, выпавший на кубике, рядом - его номер в массиве наблюдений):\", '\\n', seq)\n",
    "print('\\n', \"Сгенерированная скрытая последовательность:\",'\\n', dices)\n",
    "\n",
    "# Алгоритм Витерби\n",
    "\n",
    "V = np.zeros((n, 2))\n",
    "\n",
    "for i in range(2):\n",
    "    V[0][i] = P0[i] * Em[i][seq[0][1]]\n",
    "\n",
    "for k in range(1, n):\n",
    "    for t in range(2):\n",
    "        V[k][t] = Em[t][seq[k][1]] * max(V[k - 1][0] * Tr[0][t], V[k - 1][1] * Tr[1][t])\n",
    "\n",
    "mm = np.argmax(V, axis=1)\n",
    "print('\\n','Последовательность по алгоритму Витерби:','\\n',  mm)"
   ]
  },
  {
   "cell_type": "code",
   "execution_count": 321,
   "metadata": {},
   "outputs": [
    {
     "data": {
      "image/png": "[encoded data removed]",
      "text/plain": [
       "<Figure size 432x288 with 1 Axes>"
      ]
     },
     "metadata": {
      "needs_background": "light"
     },
     "output_type": "display_data"
    },
    {
     "data": {
      "image/png": "[encoded data removed]",
      "text/plain": [
       "<Figure size 432x288 with 1 Axes>"
      ]
     },
     "metadata": {
      "needs_background": "light"
     },
     "output_type": "display_data"
    }
   ],
   "source": [
    "y = np.arange(n)\n",
    "g5 = plt.bar(y, mm)\n",
    "plt.show()\n",
    "\n",
    "g6 = plt.bar(y, dices)\n",
    "plt.show()"
   ]
  },
  {
   "cell_type": "markdown",
   "metadata": {},
   "source": [
    "Нижний график соответствует фактическому выпадению кубика номер 1 (нечестного).\n",
    "Верхний отражает построение последовательности по алгоритму Витерби"
   ]
  },
  {
   "cell_type": "code",
   "execution_count": 345,
   "metadata": {},
   "outputs": [
    {
     "name": "stdout",
     "output_type": "stream",
     "text": [
      "71.5 % - процент совпадений\n"
     ]
    }
   ],
   "source": [
    "h = 0\n",
    "for i in range(n):\n",
    "    if mm[i] == dices[i]:\n",
    "        h = h + 1\n",
    "\n",
    "x = 100 * h / n\n",
    "print(x,'%','- процент совпадений')"
   ]
  },
  {
   "cell_type": "markdown",
   "metadata": {},
   "source": [
    "### Прямой и обратный алгоритм. Поиск вероятности P"
   ]
  },
  {
   "cell_type": "code",
   "execution_count": 340,
   "metadata": {},
   "outputs": [
    {
     "name": "stdout",
     "output_type": "stream",
     "text": [
      "P1 = 2.412034860975207e-146\n"
     ]
    }
   ],
   "source": [
    "f = np.zeros((n, 2))\n",
    "f[0][0] = 1\n",
    "summ = 0\n",
    "for i in range(1, n):\n",
    "    for l in range(2):\n",
    "        summ = 0\n",
    "        for k in range(2):\n",
    "            summ = summ + f[i - 1][k] * Tr[k][l]\n",
    "        f[i][l] = Em[l][seq[i][1]] * summ\n",
    "\n",
    "P1 = f[n - 1][0] + f[n - 1][1]\n",
    "print('P1 =', P1)"
   ]
  },
  {
   "cell_type": "code",
   "execution_count": 323,
   "metadata": {},
   "outputs": [
    {
     "name": "stdout",
     "output_type": "stream",
     "text": [
      "P2 = 2.4120348609752213e-146\n"
     ]
    }
   ],
   "source": [
    "b = np.zeros((n, 2))\n",
    "for k in range(2):\n",
    "    b[n - 1][k] = 1\n",
    "for i in range(n - 2, -1, -1):\n",
    "    for k in range(2):\n",
    "        sumo = 0\n",
    "        for l in range(2):\n",
    "            sumo = sumo + Tr[k][l] * Em[l][seq[i + 1][1]] * b[i + 1][l]\n",
    "            b[i][k] = sumo\n",
    "\n",
    "P2 = 0\n",
    "for l in range(2):\n",
    "    P2 = P2 + Tr[0][l] * Em[l][seq[0][1]] * b[1][l]\n",
    "print('P2 =', P2)"
   ]
  },
  {
   "cell_type": "code",
   "execution_count": 324,
   "metadata": {},
   "outputs": [],
   "source": [
    "P = np.zeros((n, 2))\n",
    "for i in range(n):\n",
    "    for k in range(2):\n",
    "        P[i][k] = (f[i][k] * b[i][k]) / P1\n",
    "# print(P)"
   ]
  },
  {
   "cell_type": "markdown",
   "metadata": {},
   "source": [
    "Построим второй столбец матрицы P, который соответствует вероятности выпадения нечестной игральной кости и сравним с диаграммой ее выпадения:"
   ]
  },
  {
   "cell_type": "code",
   "execution_count": 325,
   "metadata": {},
   "outputs": [
    {
     "data": {
      "image/png": "[encoded data removed]",
      "text/plain": [
       "<Figure size 432x288 with 1 Axes>"
      ]
     },
     "metadata": {
      "needs_background": "light"
     },
     "output_type": "display_data"
    }
   ],
   "source": [
    "z = np.arange(n)\n",
    "g3 = plt.plot(z, dices, linestyle='--')\n",
    "g4 = plt.plot(y, P[:, 1])\n",
    "plt.show()\n"
   ]
  },
  {
   "cell_type": "markdown",
   "metadata": {},
   "source": [
    "### Алгоритм Баума-Велша для задачи нечестного казино"
   ]
  },
  {
   "cell_type": "code",
   "execution_count": 341,
   "metadata": {},
   "outputs": [],
   "source": [
    "# forward algorithm for B-W\n",
    "\n",
    "alf = np.zeros((n, 2)) \n",
    "\n",
    "for k in range(2):\n",
    "    alf[0][k] = P0[k] * Em[k][seq[0][1]] # Начальные вероятности для алгоритма\n",
    "\n",
    "for i in range(1, n):\n",
    "    for l in range(2):\n",
    "        s1 = 0\n",
    "        for k in range(2):\n",
    "            s1 = s1 + alf[i - 1][k] * Tr[k][l]\n",
    "        alf[i][l] = Em[l][seq[i][1]] * s1\n",
    "\n",
    "# backward algorithm for B-W\n",
    "\n",
    "beta = np.zeros((n, 2))\n",
    "\n",
    "for k in range(2):\n",
    "    beta[n - 1][k] = 1\n",
    "\n",
    "for i in range(n - 2, -1, -1):\n",
    "    for k in range(2):\n",
    "        s2 = 0\n",
    "        for l in range(2):\n",
    "            s2 = s2 + Tr[k][l] * Em[l][seq[i + 1][1]] * beta[i + 1][l]\n",
    "            beta[i][k] = s2\n"
   ]
  },
  {
   "cell_type": "code",
   "execution_count": 342,
   "metadata": {},
   "outputs": [],
   "source": [
    "# Определим временные переменные gamma и e, с помощью которых в дальнейшем можно будет определить\n",
    "# новые матрицы перехода и эмиссии\n",
    "\n",
    "gamma = np.zeros((n, 2))\n",
    "\n",
    "for t in range(n):\n",
    "    for i in range(2):\n",
    "        s3 = 0\n",
    "        for j in range(2):\n",
    "            s3 = s3 + alf[t][j] * beta[t][j]\n",
    "        gamma[t][i] = (alf[t][i] * beta[t][i]) / s3\n",
    "\n",
    "e = np.zeros((n, 2, 2))\n",
    "s4 = 0\n",
    "\n",
    "for t in range(n):\n",
    "    s4 = 0\n",
    "    for i in range(2):\n",
    "        for j in range(2):\n",
    "            s4 = s4 + alf[t - 1][i] * Tr[i][j] * Em[j][seq[t][1]] * beta[t][j]\n",
    "    for i in range(2):\n",
    "        for j in range(2):\n",
    "            e[t - 1][i][j] = (alf[t - 1][i] * Tr[i][j] * beta[t][j] * Em[j][seq[t][1]]) / s4\n",
    "\n"
   ]
  },
  {
   "cell_type": "code",
   "execution_count": 343,
   "metadata": {},
   "outputs": [
    {
     "name": "stdout",
     "output_type": "stream",
     "text": [
      "A: \n",
      " [[0.91439427 0.08560573]\n",
      " [0.07265326 0.92734674]]\n",
      "B: \n",
      " [[0.16504869 0.2095409  0.1585476  0.19997016 0.09859362 0.16829903]\n",
      " [0.11103214 0.08453181 0.09824129 0.09216576 0.11010994 0.50391906]]\n",
      "New A: \n",
      " [[0.89093613 0.10906387]\n",
      " [0.03307658 0.96692342]]\n",
      "New B: \n",
      " [[0.19809423 0.29484362 0.1481581  0.30411807 0.04644761 0.00833836]\n",
      " [0.11630237 0.09411295 0.11813722 0.09136452 0.12235168 0.45773127]]\n",
      "\n",
      " Количество итераций: 13\n",
      "Точность сходимости матриц: 0.0001\n"
     ]
    }
   ],
   "source": [
    "A = np.zeros((2, 2)) # новая матрица перехода\n",
    "B = np.zeros((2, 6)) # новая матрица эмиссии\n",
    "\n",
    "# C помощью матриц Tr и Em находим новые матрицы A и B\n",
    "for i in range(2):\n",
    "    P0[i] = gamma[0][i]\n",
    "\n",
    "for i in range(2):\n",
    "    for j in range(2):\n",
    "        s4 = 0\n",
    "        s5 = 0\n",
    "        for t in range(n - 1):\n",
    "            s4 = s4 + e[t][i][j]\n",
    "            s5 = s5 + gamma[t][i]\n",
    "        A[i][j] = s4 / s5\n",
    "\n",
    "print('A: \\n', A)\n",
    "\n",
    "for i in range(2):\n",
    "    for j in range(n):\n",
    "        s4 = 0\n",
    "        s5 = 0\n",
    "        for t in range(n):\n",
    "            if seq[t][1] == seq[j][1]:\n",
    "                delta = 1\n",
    "            else:\n",
    "                delta = 0\n",
    "            s4 = s4 + delta * gamma[t][i]\n",
    "            s5 = s5 + gamma[t][i]\n",
    "        B[i][seq[j][1]] = s4 / s5\n",
    "\n",
    "print('B: \\n', B)\n",
    "\n",
    "# Используем матрицы A и B, обновляя A и B до более точных значений\n",
    "\n",
    "list_A = []\n",
    "list_B = []\n",
    "\n",
    "list_A.append(A.tolist())\n",
    "list_B.append(B.tolist())\n",
    "\n",
    "for k in range(2):\n",
    "    alf[0][k] = P0[k] * B[k][seq[0][1]]\n",
    "    \n",
    "# forward\n",
    "for i in range(1, n):\n",
    "    for l in range(2):\n",
    "        s1 = 0\n",
    "        for k in range(2):\n",
    "            s1 = s1 + alf[i - 1][k] * A[k][l]\n",
    "        alf[i][l] = B[l][seq[i][1]] * s1\n",
    "    \n",
    "# backward\n",
    "for k in range(2):\n",
    "    beta[n - 1][k] = 1\n",
    "for i in range(n - 2, -1, -1):\n",
    "    for k in range(2):\n",
    "        s2 = 0\n",
    "        for l in range(2):\n",
    "            s2 = s2 + A[k][l] * B[l][seq[i + 1][1]] * beta[i + 1][l]\n",
    "            beta[i][k] = s2\n",
    "    \n",
    "# gamma\n",
    "for t in range(n):\n",
    "    for i in range(2):\n",
    "        s3 = 0\n",
    "        for j in range(2):\n",
    "            s3 = s3 + alf[t][j] * beta[t][j]\n",
    "        gamma[t][i] = (alf[t][i] * beta[t][i]) / s3\n",
    "# eps\n",
    "for t in range(n):\n",
    "    s4 = 0\n",
    "    for i in range(2):\n",
    "        for j in range(2):\n",
    "            s4 = s4 + alf[t - 1][i] * A[i][j] * B[j][seq[t][1]] * beta[t][j]\n",
    "    for i in range(2):\n",
    "        for j in range(2):\n",
    "            e[t - 1][i][j] = (alf[t - 1][i] * A[i][j] * beta[t][j] * B[j][seq[t][1]]) / s4\n",
    "    \n",
    "# A\n",
    "for i in range(2):\n",
    "    for j in range(2):\n",
    "        s4 = 0\n",
    "        s5 = 0\n",
    "        for t in range(n - 1):\n",
    "            s4 = s4 + e[t][i][j]\n",
    "            s5 = s5 + gamma[t][i]\n",
    "        A[i][j] = s4 / s5\n",
    "list_A.append(A.tolist())\n",
    "\n",
    "# B\n",
    "for i in range(2):\n",
    "    for j in range(n):\n",
    "        s4 = 0\n",
    "        s5 = 0\n",
    "        for t in range(n):\n",
    "            if seq[t][1] == seq[j][1]:\n",
    "                delta = 1\n",
    "            else:\n",
    "                delta = 0\n",
    "            s4 = s4 + delta * gamma[t][i]\n",
    "            s5 = s5 + gamma[t][i]\n",
    "        B[i][seq[j][1]] = s4 / s5\n",
    "list_B.append(B.tolist())\n",
    "\n",
    "                                        # Цикл для алгоритма поиска матриц\n",
    "u = 0\n",
    "dd = 0.0001\n",
    "while abs(list_A[u][0][0] - list_A[u + 1][0][0]) > dd and abs(list_A[u][0][1] - list_A[u + 1][0][1]) > dd and abs(list_A[u][1][0] - list_A[u + 1][1][0]) > dd:\n",
    "    u = u + 1\n",
    "    for k in range(2):\n",
    "        alf[0][k] = P0[k] * B[k][seq[0][1]]\n",
    "    \n",
    "    # forward\n",
    "    for i in range(1, n):\n",
    "        for l in range(2):\n",
    "            s1 = 0\n",
    "            for k in range(2):\n",
    "                s1 = s1 + alf[i - 1][k] * A[k][l]\n",
    "            alf[i][l] = B[l][seq[i][1]] * s1\n",
    "    \n",
    "    # backward\n",
    "    for k in range(2):\n",
    "        beta[n - 1][k] = 1\n",
    "    for i in range(n - 2, -1, -1):\n",
    "        for k in range(2):\n",
    "            s2 = 0\n",
    "            for l in range(2):\n",
    "                s2 = s2 + A[k][l] * B[l][seq[i + 1][1]] * beta[i + 1][l]\n",
    "                beta[i][k] = s2\n",
    "    \n",
    "    # gamma\n",
    "    for t in range(n):\n",
    "        for i in range(2):\n",
    "            s3 = 0\n",
    "            for j in range(2):\n",
    "                s3 = s3 + alf[t][j] * beta[t][j]\n",
    "            gamma[t][i] = (alf[t][i] * beta[t][i]) / s3\n",
    "    # eps\n",
    "    for t in range(n):\n",
    "        s4 = 0\n",
    "        for i in range(2):\n",
    "            for j in range(2):\n",
    "                s4 = s4 + alf[t - 1][i] * A[i][j] * B[j][seq[t][1]] * beta[t][j]\n",
    "        for i in range(2):\n",
    "            for j in range(2):\n",
    "                e[t - 1][i][j] = (alf[t - 1][i] * A[i][j] * beta[t][j] * B[j][seq[t][1]]) / s4\n",
    "    \n",
    "    # A\n",
    "    for i in range(2):\n",
    "        for j in range(2):\n",
    "            s4 = 0\n",
    "            s5 = 0\n",
    "            for t in range(n - 1):\n",
    "                s4 = s4 + e[t][i][j]\n",
    "                s5 = s5 + gamma[t][i]\n",
    "            A[i][j] = s4 / s5\n",
    "    list_A.append(A.tolist())\n",
    "\n",
    "    # B\n",
    "    for i in range(2):\n",
    "        for j in range(n):\n",
    "            s4 = 0\n",
    "            s5 = 0\n",
    "            for t in range(n):\n",
    "                if seq[t][1] == seq[j][1]:\n",
    "                    delta = 1\n",
    "                else:\n",
    "                    delta = 0\n",
    "                s4 = s4 + delta * gamma[t][i]\n",
    "                s5 = s5 + gamma[t][i]\n",
    "            B[i][seq[j][1]] = s4 / s5\n",
    "    list_B.append(B.tolist())\n",
    "            \n",
    "print('New A: \\n', A)\n",
    "print('New B: \\n', B)\n",
    "print('\\n','Количество итераций:', len(list_A))\n",
    "print(\"Точность сходимости матриц:\", dd)\n",
    "\n"
   ]
  },
  {
   "cell_type": "code",
   "execution_count": null,
   "metadata": {},
   "outputs": [],
   "source": []
  }
 ],
 "metadata": {
  "kernelspec": {
   "display_name": "Python 3",
   "language": "python",
   "name": "python3"
  },
  "language_info": {
   "codemirror_mode": {
    "name": "ipython",
    "version": 3
   },
   "file_extension": ".py",
   "mimetype": "text/x-python",
   "name": "python",
   "nbconvert_exporter": "python",
   "pygments_lexer": "ipython3",
   "version": "3.7.3"
  }
 },
 "nbformat": 4,
 "nbformat_minor": 2
}
